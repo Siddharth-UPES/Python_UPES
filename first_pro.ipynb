{
 "cells": [
  {
   "cell_type": "code",
   "execution_count": 2,
   "id": "57605ef9-7ae3-44d2-a702-4d8ae9691554",
   "metadata": {},
   "outputs": [],
   "source": [
    "a=2\n",
    "b=1.2\n",
    "c=\"12\"\n",
    "d=\"UPES\"\n",
    "f=\"False\"\n",
    "e=True\n",
    "g=1+5j"
   ]
  },
  {
   "cell_type": "code",
   "execution_count": 4,
   "id": "6d4c533c-a19b-41d2-a547-27a6842db27a",
   "metadata": {},
   "outputs": [],
   "source": [
    "a= a+5"
   ]
  },
  {
   "cell_type": "code",
   "execution_count": 5,
   "id": "84a0e4df-1a50-4ea4-be8f-b9a26c27dbe1",
   "metadata": {},
   "outputs": [
    {
     "name": "stdout",
     "output_type": "stream",
     "text": [
      "7\n",
      "1.2\n",
      "12\n",
      "UPES\n",
      "False\n",
      "True\n",
      "(1+5j)\n"
     ]
    }
   ],
   "source": [
    "print(a)\n",
    "print(b)\n",
    "print(c)\n",
    "print(d)\n",
    "print(f)\n",
    "print(e)\n",
    "print(g)"
   ]
  },
  {
   "cell_type": "code",
   "execution_count": null,
   "id": "72b881d0-d893-4ab7-bb06-7adbac069af5",
   "metadata": {},
   "outputs": [],
   "source": []
  }
 ],
 "metadata": {
  "kernelspec": {
   "display_name": "Python 3 (ipykernel)",
   "language": "python",
   "name": "python3"
  },
  "language_info": {
   "codemirror_mode": {
    "name": "ipython",
    "version": 3
   },
   "file_extension": ".py",
   "mimetype": "text/x-python",
   "name": "python",
   "nbconvert_exporter": "python",
   "pygments_lexer": "ipython3",
   "version": "3.12.4"
  }
 },
 "nbformat": 4,
 "nbformat_minor": 5
}
